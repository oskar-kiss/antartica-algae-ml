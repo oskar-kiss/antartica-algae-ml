{
 "cells": [
  {
   "cell_type": "code",
   "execution_count": 6,
   "metadata": {},
   "outputs": [],
   "source": [
    "import pandas as pd\n",
    "import numpy as np"
   ]
  },
  {
   "cell_type": "code",
   "execution_count": 13,
   "metadata": {},
   "outputs": [
    {
     "name": "stdout",
     "output_type": "stream",
     "text": [
      "<class 'pandas.core.frame.DataFrame'>\n",
      "Index: 89512 entries, 0 to 91854\n",
      "Data columns (total 13 columns):\n",
      " #   Column             Non-Null Count  Dtype          \n",
      "---  ------             --------------  -----          \n",
      " 0   sample_id          89512 non-null  category       \n",
      " 1   field_season       89512 non-null  category       \n",
      " 2   lake               89512 non-null  category       \n",
      " 3   limno_run          89512 non-null  category       \n",
      " 4   date               89512 non-null  datetime64[ns] \n",
      " 5   elapsed_days       89512 non-null  timedelta64[ns]\n",
      " 6   depth              89512 non-null  float64        \n",
      " 7   green_algae        89512 non-null  float64        \n",
      " 8   cyanobacteria      89512 non-null  float64        \n",
      " 9   brown/mixed_algae  89512 non-null  float64        \n",
      " 10  cryptophytes       89512 non-null  float64        \n",
      " 11  yellow_substances  89512 non-null  float64        \n",
      " 12  total_chlorophyll  89512 non-null  float64        \n",
      "dtypes: category(4), datetime64[ns](1), float64(7), timedelta64[ns](1)\n",
      "memory usage: 7.3 MB\n"
     ]
    }
   ],
   "source": [
    "algae_df = pd.read_feather(\"/home/oskar-kiss/repos/antartic bacteria/data/clean_data/algaecal_measurements_clean.feather\")\n",
    "algae_df.info()"
   ]
  },
  {
   "cell_type": "code",
   "execution_count": 14,
   "metadata": {},
   "outputs": [
    {
     "name": "stdout",
     "output_type": "stream",
     "text": [
      "<class 'pandas.core.frame.DataFrame'>\n",
      "RangeIndex: 76568 entries, 0 to 76567\n",
      "Data columns (total 8 columns):\n",
      " #   Column                 Non-Null Count  Dtype         \n",
      "---  ------                 --------------  -----         \n",
      " 0   dataset_code           76568 non-null  category      \n",
      " 1   limno_run              76568 non-null  category      \n",
      " 2   location_name          76568 non-null  category      \n",
      " 3   location_code          76568 non-null  category      \n",
      " 4   depth_m                76540 non-null  float64       \n",
      " 5   ctd_conductivity_mscm  76311 non-null  float64       \n",
      " 6   ctd_temp_c             76400 non-null  float64       \n",
      " 7   date_time              76568 non-null  datetime64[ns]\n",
      "dtypes: category(4), datetime64[ns](1), float64(3)\n",
      "memory usage: 2.7 MB\n"
     ]
    }
   ],
   "source": [
    "ctd_df = pd.read_feather(\"/home/oskar-kiss/repos/antartic bacteria/data/clean_data/ctd_measurements_clean.feather\")\n",
    "ctd_df.info()"
   ]
  },
  {
   "cell_type": "code",
   "execution_count": 15,
   "metadata": {},
   "outputs": [
    {
     "name": "stdout",
     "output_type": "stream",
     "text": [
      "<class 'pandas.core.frame.DataFrame'>\n",
      "RangeIndex: 5142 entries, 0 to 5141\n",
      "Data columns (total 10 columns):\n",
      " #   Column         Non-Null Count  Dtype         \n",
      "---  ------         --------------  -----         \n",
      " 0   dataset_code   5142 non-null   object        \n",
      " 1   limno_run      5142 non-null   object        \n",
      " 2   location_name  5142 non-null   object        \n",
      " 3   location_code  5142 non-null   object        \n",
      " 4   date_time      5142 non-null   datetime64[ns]\n",
      " 5   depth_m        5141 non-null   float64       \n",
      " 6   nh4_um         4042 non-null   float64       \n",
      " 7   no2_um         3957 non-null   float64       \n",
      " 8   no3_um         4330 non-null   float64       \n",
      " 9   srp_um         3277 non-null   float64       \n",
      "dtypes: datetime64[ns](1), float64(5), object(4)\n",
      "memory usage: 401.8+ KB\n"
     ]
    }
   ],
   "source": [
    "nutrient_df = pd.read_feather(\"/home/oskar-kiss/repos/antartic bacteria/data/clean_data/nutrient_measurements_clean.feather\")\n",
    "nutrient_df.info()"
   ]
  },
  {
   "cell_type": "code",
   "execution_count": 17,
   "metadata": {},
   "outputs": [
    {
     "name": "stdout",
     "output_type": "stream",
     "text": [
      "<class 'pandas.core.frame.DataFrame'>\n",
      "RangeIndex: 15336 entries, 0 to 15335\n",
      "Data columns (total 7 columns):\n",
      " #   Column                  Non-Null Count  Dtype         \n",
      "---  ------                  --------------  -----         \n",
      " 0   dataset_code            15336 non-null  object        \n",
      " 1   location_name           15336 non-null  object        \n",
      " 2   location_code           15336 non-null  object        \n",
      " 3   limno_run               15336 non-null  object        \n",
      " 4   date_time               15336 non-null  datetime64[ns]\n",
      " 5   depth_m                 15325 non-null  float64       \n",
      " 6   uwpar_umol_photons_m2s  15322 non-null  float64       \n",
      "dtypes: datetime64[ns](1), float64(2), object(4)\n",
      "memory usage: 838.8+ KB\n"
     ]
    }
   ],
   "source": [
    "par_df = pd.read_feather(\"/home/oskar-kiss/repos/antartic bacteria/data/clean_data/par_measurements_clean.feather\")\n",
    "par_df.info()"
   ]
  },
  {
   "cell_type": "code",
   "execution_count": 18,
   "metadata": {},
   "outputs": [],
   "source": [
    "dfs = [algae_df, ctd_df, nutrient_df, par_df]"
   ]
  },
  {
   "cell_type": "code",
   "execution_count": 23,
   "metadata": {},
   "outputs": [
    {
     "name": "stdout",
     "output_type": "stream",
     "text": [
      "   sample_id field_season lake limno_run       date elapsed_days  depth  \\\n",
      "0  FRX0405L2      2004-05  FRX        L2 2004-12-02       3 days   0.38   \n",
      "1  FRX0405L2      2004-05  FRX        L2 2004-12-02       3 days   0.45   \n",
      "2  FRX0405L2      2004-05  FRX        L2 2004-12-02       3 days   0.67   \n",
      "3  FRX0405L2      2004-05  FRX        L2 2004-12-02       3 days   1.00   \n",
      "4  FRX0405L2      2004-05  FRX        L2 2004-12-02       3 days   1.05   \n",
      "\n",
      "   green_algae  cyanobacteria  brown/mixed_algae  cryptophytes  \\\n",
      "0         0.00           0.46               0.00          0.00   \n",
      "1         0.12           0.12               0.39          0.00   \n",
      "2         0.11           0.00               0.41          0.20   \n",
      "3         0.03           0.00               0.38          0.26   \n",
      "4         0.37           0.00               0.59          0.00   \n",
      "\n",
      "   yellow_substances  total_chlorophyll  \n",
      "0               0.00               0.46  \n",
      "1               0.29               0.63  \n",
      "2               0.11               0.71  \n",
      "3               0.18               0.67  \n",
      "4               0.04               0.96  \n",
      "  dataset_code limno_run location_name location_code  depth_m  \\\n",
      "0    LIMNO_CTD   JOY9394    Lake Joyce        JOYLT1    0.102   \n",
      "1    LIMNO_CTD   JOY9394    Lake Joyce        JOYLT1    0.204   \n",
      "2    LIMNO_CTD   JOY9394    Lake Joyce        JOYLT1    0.306   \n",
      "3    LIMNO_CTD   JOY9394    Lake Joyce        JOYLT1    0.408   \n",
      "4    LIMNO_CTD   JOY9394    Lake Joyce        JOYLT1    0.510   \n",
      "\n",
      "   ctd_conductivity_mscm  ctd_temp_c  date_time  \n",
      "0                 0.1017       0.020 1993-12-06  \n",
      "1                 0.1065       0.020 1993-12-06  \n",
      "2                 0.1079       0.020 1993-12-06  \n",
      "3                 0.1087       0.019 1993-12-06  \n",
      "4                 0.1162       0.020 1993-12-06  \n",
      "      dataset_code limno_run     location_name location_code  date_time  \\\n",
      "0  LIMNO_NUTRIENTS  EB9394L1  East Lake Bonney        BONE30 1993-10-27   \n",
      "1  LIMNO_NUTRIENTS  EB9394L1  East Lake Bonney        BONE30 1993-10-27   \n",
      "2  LIMNO_NUTRIENTS  EB9394L1  East Lake Bonney        BONE30 1993-10-27   \n",
      "3  LIMNO_NUTRIENTS  EB9394L1  East Lake Bonney        BONE30 1993-10-27   \n",
      "4  LIMNO_NUTRIENTS  EB9394L1  East Lake Bonney        BONE30 1993-10-27   \n",
      "\n",
      "   depth_m  nh4_um  no2_um  no3_um  srp_um  \n",
      "0      4.0     2.2    0.13     7.2    0.34  \n",
      "1      6.0     1.6    0.11     7.2    0.47  \n",
      "2      8.0     0.6    0.12     9.8    0.36  \n",
      "3     10.0     0.5    0.13    11.9    0.28  \n",
      "4     12.0     1.8    0.18    16.6    0.58  \n",
      "        dataset_code     location_name location_code limno_run  date_time  \\\n",
      "0  LIMNO_PAR_PROFILE  West Lake Bonney        BONW20  WB9394L1 1993-10-28   \n",
      "1  LIMNO_PAR_PROFILE  West Lake Bonney        BONW20  WB9394L1 1993-10-28   \n",
      "2  LIMNO_PAR_PROFILE  West Lake Bonney        BONW20  WB9394L1 1993-10-28   \n",
      "3  LIMNO_PAR_PROFILE  West Lake Bonney        BONW20  WB9394L1 1993-10-28   \n",
      "4  LIMNO_PAR_PROFILE  West Lake Bonney        BONW20  WB9394L1 1993-10-28   \n",
      "\n",
      "   depth_m  uwpar_umol_photons_m2s  \n",
      "0      4.0                   26.32  \n",
      "1      4.5                   23.18  \n",
      "2      5.0                   21.14  \n",
      "3      5.5                   18.90  \n",
      "4      6.0                   17.33  \n"
     ]
    }
   ],
   "source": [
    "for df in dfs:\n",
    "    print(df.head())"
   ]
  },
  {
   "cell_type": "code",
   "execution_count": 25,
   "metadata": {},
   "outputs": [
    {
     "name": "stdout",
     "output_type": "stream",
     "text": [
      "{'L7', 'L4', 'L10', 'L8', 'L2 ', 'L3', 'L5', 'L9', 'L1', 'L6', 'L3 ', 'L11', 'L1 ', 'L2', 'L12'}\n",
      "{'FRX0607L1', 'FRX0708L10', 'MIE1213L3', 'HOR1920L3', 'FRX2122L1', 'MIE9394', 'WB0102L3', 'FRX1920L2', 'EB9697L2', 'EB0708L9', 'FRX9899L3', 'FRX0708L5', 'FRX9899L1', 'WB0910L2', 'MIE1617L3', 'FRX1617L2', 'WB9697L1', 'HOR0708L9', 'HOR0809L2', 'WB1617L3', 'FRX9899L2', 'WB0708L5', 'EB1718L3', 'EB0506L2', 'WB1011L2', 'WB0405L2', 'HOR1112L1', 'VAN1314a', 'EB1112L1', 'WB1920L3', 'HOR1213L2', 'FRX1112L2', 'HOR0405L3', 'EB0405L3', 'HOR0809L1', 'FRX1011L1', 'FRX1718L1', 'WB1314L2', 'HOR0910L3', 'WB0708L7', 'HOR1112L3', 'HOR2122L1', 'HOA9900L1', 'HOA9495L4', 'FRX0405L1', 'EB1718L1', 'EB1718L2', 'MIE1415L1', 'FRX2223L1', 'MIE1415L3', 'WB9798L1', 'WB0506L1', 'EB0203L1', 'EB2223L3', 'MIE1112', 'EB1213L3', 'HOR0708L6', 'WB1112L2', 'EB1516L1', 'FRX2223L2', 'EB0607L2', 'MIE1516L3', 'WB0607L1', 'WB0304L1', 'HOA9899L2', 'HOR0910L2', 'WB9900L2', 'EB0405L2', 'HOR1718L2', 'WB1112L1a', 'MIE1617L2', 'HOR2223L3', 'FRX0102L2', 'MIE1415L2', 'HOR1617L3', 'FRX0708L8', 'WB0809L1', 'EB1213L1', 'EB0001L2', 'FRX0001L1', 'EB1415L3', 'EB2122L1', 'FRX0203L2', 'WB1617L1', 'HOA9899L1', 'FRX0708L7', 'EB9798L2', 'MIE1213L1', 'EB1112L2', 'FRX1516L2', 'HOR0203L2', 'EB9900L2', 'WB1516L1', 'FRX0506L1', 'HOR2223L1', 'FRX1415L1', 'FRX9697L1.5', 'EB0910L1', 'FRX0405L3', 'HOA0102L2', 'WB0708L11', 'HOA9900L3', 'FRX1011L3', 'WB1112L1', 'HOR0506L2', 'EB9495L4', 'WB0708L1', 'WB0708L8', 'WB1213L2', 'FRX0708L2', 'EB1314L1', 'EB1213L2', 'HOR1415L3', 'HOR0607L2', 'EB1011L2', 'FRX0708L6', 'WB0607L2', 'WB1516L2', 'FRX0405L2', 'HOR0708L3', 'FRX9697L2', 'EB0405L1', 'HOR1516L3', 'FRX1718L3', 'HOR0506L1', 'FRX0809L1', 'EB0708L4', 'HOR1617L2', 'EB9394L4', 'FRX1314L2', 'WB0203L2', 'WB0405L1', 'WB1415L1', 'EB9900L1', 'FRX1920L3', 'WB1112L3', 'FRX1718L2', 'EB1516L2', 'WB0102L2', 'HOR2122L2', 'MIE9798L1', 'FRX0910L1', 'EB1819L2', 'MIE1314L2', 'HOA0102L3', 'HOR1516L2', 'JOY0304', 'EB1314L2', 'WB0001L2', 'EB9899L1', 'HOR1011L1', 'WB9899L1', 'MIE1314L1', 'HOA9697L1', 'EB0102L2', 'WB1415L2', 'EB0708L2', 'EB0910L3', 'WB0708L6', 'FRX1819L3', 'VAN1314b', 'FRX0001L3', 'WB0708L2', 'EB0708L8', 'EB0607L1', 'WB9798L1.5', 'EB0809L2', 'EB9899L2', 'FRX0809L3', 'HOR0708L7', 'FRX9900L2', 'WB0405L3', 'FRX0910L2', 'EB1819L1', 'WB1011L1', 'MIE1011L2', 'EB0001L1', 'FRX0506L2', 'HOR1920L1', 'FRX0708L11', 'HOR1112L2', 'FRX2122L2', 'HOR0304L1', 'WB0708L10', 'EB0001L3', 'EB0708L11', 'WB0708L4', 'HOR0708L10', 'EB0506L1', 'WB9495L4', 'FRX1213L1', 'WB2223L1', 'FRX1819L1', 'WB9697L2', 'FRX0203L1', 'HOR0001L2', 'EB9596L3', 'WB9596L5', 'MIE1718L2', 'WB0910L1', 'WB0506L2', 'FRX0809L2', 'WB9900L3', 'WB1011L3', 'JOY9798L1', 'HOR0203L1', 'HOR1213L3', 'HOR0405L1', 'WB1920L2', 'WB9899L3', 'WB1617L2', 'HOR0708L4', 'EB0708L6', 'MIE1718L3', 'EB1516L3', 'HOA9798L2', 'WB0809L2', 'EB1617L3', 'EB0708L7', 'WB2122L2', 'WB1314L1', 'EB9697L1', 'VAN9394', 'EB9900L3', 'FRX1819L2', 'EB2122L2', 'MIE1617L1', 'EB0102L1', 'EB0708L10', 'WB0203L1', 'FRX9798L2', 'EB2223L1', 'EB0708L1', 'WB9798L2', 'HOA9798L1', 'EB9798L1', 'EB0708L3', 'VAN0405', 'FRX1112L1', 'WB0708L3', 'EB0708L12', 'HOR1011L2', 'WB0102L1', 'WB2223L3', 'HOR0809L3', 'MIE0910', 'FRX1617L3', 'EB0102L3', 'VAN0506', 'HOA9900L2', 'HOR1718L3', 'WB9899L2', 'HOR1819L1', 'EB1011L3', 'WB0001L1', 'FRX0708L3', 'JOY1314', 'HOR0304L2', 'FRX0102L1', 'WB0607L3', 'HOR1819L2', 'FRX0102L3', 'HOA0102L1', 'EB0809L3', 'HOR0405L2', 'WB0708L9', 'WB1415L3', 'TRO9899L1', 'WB0001L3', 'WB1718L3', 'WB1920L1', 'EB9798L1.7', 'WB9900L1', 'FRX9596L4', 'HOR0708L2', 'EB9798L1.5', 'HOR0708L1', 'EB0809L1', 'FRX1112L3', 'WB1213L3', 'EB1920L3', 'EB9596L5', 'FRX0607L2', 'FRX0708L4', 'EB0405L4', 'EB9899L3', 'WB1819L2', 'VAN0708L8', 'EB2223L2', 'WB1516L3', 'EB1920L2', 'FRX0910L3', 'FRX1415L3', 'WB0910L3', 'MIE0809', 'FRX0607L3', 'FRX0506L3', 'MIE1213L2', 'HOA9697L2', 'HOR0506L3', 'WB9394L4', 'EB1415L2', 'MIE1516L1', 'EB1617L1', 'WB0304L2', 'FRX9697L1', 'FRX0304L2', 'WB0809L3', 'MIE1718L1', 'VAN0708L1', 'EB1920L1', 'HOR0708L5', 'FRX9900L1', 'EB0708L5', 'MIE9697L1', 'HOR0910L1', 'HOR1011L3', 'FRX1516L1', 'FRX0708L1', 'HOR0607L1', 'WB0506L3', 'EB1112L3', 'FRX9798L1', 'HOR1920L2', 'FRX0708L9', 'HOA9596L3.5', 'MIE1516L2', 'EB0304L2', 'HOR0708L8', 'WB1718L1', 'WB1819L1', 'FRX9596L5', 'EB0304L1', 'FRX9900L3', 'HOR0001L1', 'WB9798L1.7', 'WB9596L3', 'FRX1213L3', 'WB1718L2', 'FRX1617L1', 'HOR0607L3', 'WB2122L1', 'HOR1415L2', 'EB0910L2', 'FRX0001L2', 'MIE1819L2', 'JOY9697L1', 'FRX9495L4', 'EB1415L1', 'MIE9495L1', 'FRX1920L1', 'EB0203L2', 'EB1011L1', 'FRX1011L2', 'HOA9596L4', 'FRX2223L3', 'FRX1314L1', 'HOR1314L2', 'VAN0102', 'FRX0304L1', 'HOA9899L3', 'EB0607L3', 'FRX9596L3', 'HOR2223L2', 'EB1617L2', 'FRX1213L2', 'EB1112L1a', 'FRX1516L3', 'FRX1415L2', 'VAN0607', 'WB1213L1', 'EB0506L3', 'JOY9394', 'WB2223L2', 'VAN1011', 'HOA9596L5'}\n",
      "{'FRX0607L1', 'FRX0708L10', 'MIE1213L3', 'HOR1920L3', 'WB9394L3', 'WB9596L4', 'WB0102L3', 'FRX1920L2', 'EB9697L2', 'EB1819L3', 'EB0708L9', 'FRX9899L3', 'FRX0708L5', 'FRX9899L1', 'WB0910L2', 'MIE1617L3', 'FRX1617L2', 'WB9697L1', 'HOR0708L9', 'HOR0809L2', 'WB1617L3', 'HOA9495L3', 'FRX9899L2', 'WB0708L5', 'EB1718L3', 'EB9697L3', 'EB0506L2', 'WB1011L2', 'WB0405L2', 'HOR1112L1', 'EB1112L1', 'WB1920L3', 'HOR1213L2', 'FRX1112L2', 'HOA9596L3', 'HOR0405L3', 'EB0405L3', 'HOR0809L1', 'FRX1011L1', 'FRX1718L1', 'WB1314L2', 'HOR0910L3', 'WB0708L7', 'HOR1112L3', 'HOA9900L1', 'HOA9495L4', 'FRX0405L1', 'EB1718L1', 'EB1718L2', 'MIE1415L1', 'MIE1415L3', 'FRX9394L1', 'WB9798L1', 'WB0506L1', 'EB0203L1', 'MIE1112', 'EB9394L5', 'FRX9495L3', 'EB9495L3', 'EB1213L3', 'HOR0708L6', 'WB1112L2', 'EB1516L1', 'HOA9596L1.5', 'EB0607L2', 'MIE1516L3', 'WB0607L1', 'WB0304L1', 'HOA9899L2', 'HOR0910L2', 'WB9900L2', 'EB0405L2', 'HOR1718L2', 'HOA9596L2', 'MIE1617L2', 'FRX0102L2', 'MIE1415L2', 'HOR1617L3', 'FRX0708L8', 'WB9495L3', 'WB0809L1', 'EB1213L1', 'EB0001L2', 'FRX0001L1', 'EB1415L3', 'FRX0203L2', 'WB1617L1', 'HOA9899L1', 'FRX0708L7', 'EB9798L2', 'MIE1213L1', 'EB1112L2', 'FRX1516L2', 'HOR0203L2', 'EB9900L2', 'WB1516L1', 'FRX0506L1', 'FRX1415L1', 'EB0910L1', 'FRX0405L3', 'HOA0102L2', 'WB0708L11', 'HOA9900L3', 'FRX1011L3', 'WB1112L1', 'HOR0506L2', 'EB9495L4', 'WB0708L1', 'WB0708L8', 'WB1213L2', 'FRX0708L2', 'EB1314L1', 'EB1213L2', 'HOR1415L3', 'HOR0607L2', 'EB1011L2', 'FRX0708L6', 'HOA9697L3', 'WB0607L2', 'WB1516L2', 'FRX0405L2', 'HOR0708L3', 'FRX9697L2', 'EB0405L1', 'HOR1516L3', 'FRX1718L3', 'HOR0506L1', 'FRX0809L1', 'FRX9495L1', 'EB0708L4', 'HOR1617L2', 'JOY0001', 'EB9394L4', 'FRX1314L2', 'WB0203L2', 'WB0405L1', 'WB1415L1', 'EB9900L1', 'FRX1920L3', 'WB1112L3', 'FRX1718L2', 'EB1516L2', 'WB0102L2', 'MIE9798L1', 'FRX0910L1', 'EB1819L2', 'MIE1314L2', 'HOA0102L3', 'EB9596L4', 'HOR1516L2', 'JOY0304', 'EB1314L2', 'WB0001L2', 'EB9899L1', 'HOR1011L1', 'WB9899L1', 'MIE1314L1', 'HOA9697L1', 'EB0102L2', 'WB1415L2', 'EB0708L2', 'EB0910L3', 'EB9596L1', 'WB0708L6', 'WB9596L1', 'FRX1819L3', 'FRX0001L3', 'WB0708L2', 'EB0708L8', 'EB0607L1', 'WB9798L1.5', 'EB0809L2', 'EB9899L2', 'FRX0809L3', 'EB9495L1', 'HOR0708L7', 'FRX9900L2', 'WB0405L3', 'FRX0910L2', 'EB1819L1', 'WB1011L1', 'MIE1011L2', 'EB0001L1', 'FRX0506L2', 'HOR1920L1', 'EB9394L3', 'FRX0708L11', 'HOR1112L2', 'EB9495L2', 'HOR0304L1', 'WB0708L10', 'EB0001L3', 'EB0708L11', 'WB0708L4', 'HOR0708L10', 'EB0506L1', 'WB9495L4', 'FRX1213L1', 'FRX9495L2', 'FRX1819L1', 'WB9697L2', 'FRX0203L1', 'HOR1819L3', 'HOR0001L2', 'EB9596L3', 'WB9596L5', 'MIE1718L2', 'WB0910L1', 'WB0506L2', 'FRX0809L2', 'WB9900L3', 'WB1011L3', 'FRX9394L2', 'JOY9798L1', 'HOR0203L1', 'HOR1213L3', 'HOR0405L1', 'WB1920L2', 'WB9899L3', 'WB1617L2', 'HOA9596L1', 'HOR0708L4', 'HOA9394L3', 'EB0708L6', 'EB9596L2', 'MIE1718L3', 'EB1516L3', 'HOA9798L2', 'WB0809L2', 'EB1617L3', 'WB9596L2', 'EB0708L7', 'FRX9394L4', 'WB1314L1', 'EB9697L1', 'EB9900L3', 'FRX1819L2', 'MIE1617L1', 'EB0102L1', 'EB0708L10', 'WB0203L1', 'FRX9798L2', 'EB0708L1', 'WB9798L2', 'HOA9798L1', 'EB9798L1', 'EB0708L3', 'VAN0405', 'FRX1112L1', 'WB0708L3', 'EB0708L12', 'HOR1011L2', 'WB0102L1', 'HOR0809L3', 'MIE0910', 'FRX9596L2', 'FRX1617L3', 'EB0102L3', 'VAN0506', 'HOA9900L2', 'WB9394L2', 'WB9899L2', 'WB9394L1', 'HOA9394L1', 'HOR1819L1', 'EB1011L3', 'WB0001L1', 'FRX0708L3', 'EB9394L1', 'FRX9798L1.7', 'WB9495L1', 'FRX9697L3', 'HOR0304L2', 'FRX0102L1', 'WB0607L3', 'HOR1819L2', 'FRX0102L3', 'HOA9394L4', 'HOA0102L1', 'HOA9394L2', 'HOR0405L2', 'EB0809L3', 'WB0708L9', 'FRX9596L1', 'WB1415L3', 'EB9394L2', 'TRO9899L1', 'HOR0001L3', 'WB0001L3', 'WB1718L3', 'WB1920L1', 'WB9900L1', 'FRX9596L4', 'HOR0708L2', 'EB9798L1.5', 'HOR0708L1', 'EB0809L1', 'HOA9495L1', 'WB1819L3', 'FRX1112L3', 'WB1213L3', 'EB1920L3', 'EB9596L5', 'FRX0607L2', 'FRX0708L4', 'EB9899L3', 'WB1819L2', 'VAN0708L8', 'WB1516L3', 'EB1920L2', 'FRX0910L3', 'FRX1415L3', 'WB0910L3', 'MIE0809', 'FRX0607L3', 'FRX0506L3', 'MIE1213L2', 'HOA9697L2', 'HOR0506L3', 'WB9394L4', 'EB1415L2', 'MIE1516L1', 'EB1617L1', 'WB0304L2', 'FRX9697L1', 'FRX0304L2', 'WB0809L3', 'MIE1718L1', 'VAN0708L1', 'EB1920L1', 'HOR0708L5', 'FRX9900L1', 'EB0708L5', 'MIE9697L1', 'HOR0910L1', 'HOR1011L3', 'FRX1516L1', 'FRX9394L3', 'FRX0708L1', 'HOR0607L1', 'WB0506L3', 'EB1112L3', 'WB9394L5', 'FRX9798L1', 'WB9495L2', 'HOR1920L2', 'FRX0708L9', 'MIE1516L2', 'EB0304L2', 'HOR0708L8', 'WB1718L1', 'WB9697L3', 'WB1819L1', 'FRX9596L5', 'EB0304L1', 'FRX9900L3', 'HOR0001L1', 'HOA9495L2', 'WB9596L3', 'FRX1213L3', 'WB1718L2', 'FRX1617L1', 'HOR0607L3', 'HOR1415L2', 'EB0910L2', 'FRX0001L2', 'MIE1819L2', 'JOY9697L1', 'FRX9495L4', 'EB1415L1', 'FRX1920L1', 'EB0203L2', 'EB1011L1', 'FRX1011L2', 'HOA9596L4', 'FRX1314L1', 'HOR1314L2', 'VAN0102', 'FRX0304L1', 'HOA9899L3', 'EB0607L3', 'FRX9596L3', 'EB1617L2', 'FRX1213L2', 'FRX1516L3', 'FRX1415L2', 'VAN0607', 'WB1213L1', 'EB0506L3', 'HOA9596L5'}\n",
      "{'FRX0607L1', 'FRX0708L10', 'MIE1213L3', 'HOR1920L3', 'WB9394L3', 'FRX2122L1', 'WB9596L4', 'WB0102L3', 'FRX1920L2', 'EB9697L2', 'EB1819L3', 'EB0708L9', 'FRX9899L3', 'FRX0708L5', 'FRX9899L1', 'WB0910L2', 'MIE1617L3', 'FRX1617L2', 'WB9697L1', 'HOR0708L9', 'HOR0809L2', 'WB1617L3', 'HOA9495L3', 'FRX9899L2', 'WB0708L5', 'EB1718L3', 'EB9697L3', 'EB0506L2', 'WB1011L2', 'WB0405L2', 'HOR1112L1', 'EB1112L1', 'WB1920L3', 'HOR1213L2', 'FRX1112L2', 'HOA9596L3', 'HOR0405L3', 'EB0405L3', 'HOR0809L1', 'FRX1011L1', 'FRX1718L1', 'WB1314L2', 'HOR0910L3', 'WB0708L7', 'HOR1112L3', 'HOR2122L1', 'HOA9900L1', 'HOA9495L4', 'FRX0405L1', 'EB1718L1', 'EB1718L2', 'MIE1415L1', 'FRX2223L1', 'MIE1415L3', 'FRX9394L1', 'WB9798L1', 'WB0506L1', 'EB0203L1', 'EB2223L3', 'MIE1112', 'EB9394L5', 'FRX9495L3', 'EB9495L3', 'EB1213L3', 'HOR0708L6', 'WB1112L2', 'EB1516L1', 'FRX2223L2', 'EB0607L2', 'MIE1516L3', 'WB0607L1', 'WB0304L1', 'HOA9899L2', 'HOR0910L2', 'WB9900L2', 'EB0405L2', 'HOR1718L2', 'HOA9596L2', 'MIE1617L2', 'HOR2223L3', 'FRX0102L2', 'MIE1415L2', 'HOR1617L3', 'FRX0708L8', 'WB9495L3', 'WB0809L1', 'EB1213L1', 'EB0001L2', 'FRX0001L1', 'EB1415L3', 'EB2122L1', 'FRX0203L2', 'WB1617L1', 'HOA9899L1', 'FRX0708L7', 'EB9798L2', 'MIE1213L1', 'EB1112L2', 'FRX1516L2', 'HOR0203L2', 'EB9900L2', 'WB1516L1', 'FRX0506L1', 'HOR2223L1', 'FRX1415L1', 'EB0910L1', 'FRX0405L3', 'HOA0102L2', 'WB0708L11', 'HOA9900L3', 'FRX1011L3', 'WB1112L1', 'HOR0506L2', 'EB9495L4', 'WB0708L1', 'WB0708L8', 'WB1213L2', 'FRX0708L2', 'EB1314L1', 'EB1213L2', 'HOR1415L3', 'HOR0607L2', 'EB1011L2', 'FRX0708L6', 'HOA9697L3', 'WB0607L2', 'WB1516L2', 'FRX0405L2', 'HOR0708L3', 'FRX9697L2', 'EB0405L1', 'HOR1516L3', 'FRX1718L3', 'HOR0506L1', 'FRX0809L1', 'FRX9495L1', 'EB0708L4', 'HOR1617L2', 'EB9394L4', 'FRX1314L2', 'WB0203L2', 'WB0405L1', 'WB1415L1', 'EB9900L1', 'FRX1920L3', 'WB1112L3', 'FRX1718L2', 'EB1516L2', 'WB0102L2', 'HOR2122L2', 'FRX0910L1', 'EB1819L2', 'MIE1314L2', 'HOA0102L3', 'EB9596L4', 'HOR1516L2', 'JOY0304', 'EB1314L2', 'WB0001L2', 'EB9899L1', 'HOR1011L1', 'WB9899L1', 'MIE1314L1', 'HOA9697L1', 'EB0102L2', 'WB1415L2', 'EB0708L2', 'EB0910L3', 'WB0708L6', 'WB9596L1', 'FRX1819L3', 'FRX0001L3', 'WB0708L2', 'EB0708L8', 'EB0607L1', 'EB0809L2', 'EB9899L2', 'FRX0809L3', 'EB9495L1', 'HOR0708L7', 'FRX9900L2', 'WB0405L3', 'FRX0910L2', 'EB1819L1', 'WB1011L1', 'MIE1011L2', 'EB0001L1', 'FRX0506L2', 'HOR1920L1', 'EB9394L3', 'FRX0708L11', 'HOR1112L2', 'EB9495L2', 'FRX2122L2', 'HOR0304L1', 'WB0708L10', 'EB0001L3', 'EB0708L11', 'WB0708L4', 'HOR0708L10', 'EB0506L1', 'WB9495L4', 'FRX1213L1', 'WB2223L1', 'FRX9495L2', 'FRX1819L1', 'WB9697L2', 'FRX0203L1', 'HOR1819L3', 'HOR0001L2', 'EB9596L3', 'WB9596L5', 'MIE1718L2', 'WB0910L1', 'WB0506L2', 'FRX0809L2', 'WB9900L3', 'WB1011L3', 'FRX9394L2', 'HOR0203L1', 'HOR0405L1', 'WB1920L2', 'WB9899L3', 'WB1617L2', 'HOA9596L1', 'HOR0708L4', 'HOA9394L3', 'EB0708L6', 'EB9596L2', 'MIE1718L3', 'EB1516L3', 'WB0809L2', 'EB1617L3', 'WB9596L2', 'EB0708L7', 'WB2122L2', 'WB1314L1', 'EB9697L1', 'EB9900L3', 'FRX1819L2', 'EB2122L2', 'MIE1617L1', 'EB0102L1', 'EB0708L10', 'WB0203L1', 'FRX9798L2', 'EB2223L1', 'EB0708L1', 'HOA9798L1', 'EB9798L1', 'EB0708L3', 'VAN0405', 'FRX1112L1', 'WB0708L3', 'EB0708L12', 'HOR1011L2', 'WB0102L1', 'HOR0809L3', 'MIE0910', 'FRX9596L2', 'FRX1617L3', 'EB0102L3', 'EB9596L1.5', 'VAN0506', 'HOA9900L2', 'HOR1718L3', 'WB9394L2', 'WB9899L2', 'WB9394L1', 'HOA9394L1', 'HOR1819L1', 'EB1011L3', 'WB0001L1', 'FRX0708L3', 'EB9394L1', 'HOR0304L2', 'WB9495L1', 'FRX9697L3', 'FRX0102L1', 'WB0607L3', 'HOR1819L2', 'FRX0102L3', 'HOA0102L1', 'HOA9394L2', 'HOR0405L2', 'EB0809L3', 'WB0708L9', 'FRX9596L1', 'WB1415L3', 'EB9394L2', 'HOR0001L3', 'WB0001L3', 'WB1718L3', 'WB1920L1', 'WB9900L1', 'FRX9596L4', 'HOR0708L2', 'HOR0708L1', 'EB0809L1', 'HOA9495L1', 'WB1819L3', 'FRX1112L3', 'WB1213L3', 'EB1920L3', 'EB9596L5', 'FRX0607L2', 'FRX0708L4', 'EB9899L3', 'WB1819L2', 'VAN0708L8', 'EB2223L2', 'WB1516L3', 'EB1920L2', 'FRX0910L3', 'FRX1415L3', 'WB0910L3', 'MIE0809', 'FRX0607L3', 'FRX0506L3', 'MIE1213L2', 'HOA9697L2', 'HOR0506L3', 'WB9394L4', 'EB1415L2', 'MIE1516L1', 'EB1617L1', 'WB0304L2', 'FRX9697L1', 'FRX0304L2', 'WB0809L3', 'MIE1718L1', 'VAN0708L1', 'EB1920L1', 'HOR0708L5', 'FRX9900L1', 'EB0708L5', 'HOR0910L1', 'HOR1011L3', 'FRX1516L1', 'FRX9394L3', 'FRX0708L1', 'HOR0607L1', 'WB0506L3', 'EB1112L3', 'WB9394L5', 'FRX9798L1', 'WB9495L2', 'HOR1920L2', 'FRX0708L9', 'MIE1516L2', 'EB0304L2', 'HOR0708L8', 'WB1718L1', 'WB9697L3', 'WB1819L1', 'FRX9596L5', 'EB0304L1', 'FRX9900L3', 'HOR0001L1', 'HOA9495L2', 'WB9596L3', 'FRX1213L3', 'WB1718L2', 'FRX1617L1', 'HOR0607L3', 'WB2122L1', 'HOR1415L2', 'EB0910L2', 'FRX0001L2', 'MIE1819L2', 'EB1415L1', 'FRX1920L1', 'EB0203L2', 'EB1011L1', 'FRX1011L2', 'HOA9596L4', 'FRX2223L3', 'FRX1314L1', 'HOR1314L2', 'FRX0304L1', 'HOA9899L3', 'EB0607L3', 'FRX9596L3', 'HOR2223L2', 'EB1617L2', 'FRX1213L2', 'FRX1516L3', 'FRX1415L2', 'VAN0607', 'WB1213L1', 'EB0506L3', 'WB2223L2', 'HOA9596L5'}\n"
     ]
    }
   ],
   "source": [
    "for df in dfs:\n",
    "    print(set(df[\"limno_run\"]))"
   ]
  },
  {
   "cell_type": "code",
   "execution_count": 26,
   "metadata": {},
   "outputs": [
    {
     "data": {
      "text/plain": [
       "0        FRX\n",
       "1        FRX\n",
       "2        FRX\n",
       "3        FRX\n",
       "4        FRX\n",
       "        ... \n",
       "91850    FRX\n",
       "91851    FRX\n",
       "91852    FRX\n",
       "91853    FRX\n",
       "91854    FRX\n",
       "Name: lake, Length: 89512, dtype: category\n",
       "Categories (9, object): ['ELB', 'FRX', 'HOR', 'JOY', ..., 'Miers', 'VAN', 'VAN ', 'WLB']"
      ]
     },
     "execution_count": 26,
     "metadata": {},
     "output_type": "execute_result"
    }
   ],
   "source": [
    "algae_df[\"lake\"]"
   ]
  },
  {
   "cell_type": "code",
   "execution_count": null,
   "metadata": {},
   "outputs": [],
   "source": []
  }
 ],
 "metadata": {
  "kernelspec": {
   "display_name": ".venv",
   "language": "python",
   "name": "python3"
  },
  "language_info": {
   "codemirror_mode": {
    "name": "ipython",
    "version": 3
   },
   "file_extension": ".py",
   "mimetype": "text/x-python",
   "name": "python",
   "nbconvert_exporter": "python",
   "pygments_lexer": "ipython3",
   "version": "3.12.3"
  }
 },
 "nbformat": 4,
 "nbformat_minor": 2
}
