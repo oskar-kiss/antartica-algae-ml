{
 "cells": [
  {
   "cell_type": "code",
   "execution_count": 2,
   "metadata": {},
   "outputs": [],
   "source": [
    "import pandas as pd\n",
    "import numpy as np"
   ]
  },
  {
   "cell_type": "code",
   "execution_count": 3,
   "metadata": {},
   "outputs": [
    {
     "name": "stderr",
     "output_type": "stream",
     "text": [
      "/tmp/ipykernel_51021/4224580651.py:1: DtypeWarning: Columns (6,7,8,9,10,12) have mixed types. Specify dtype option on import or set low_memory=False.\n",
      "  df = pd.read_csv(r\"/home/oskar-kiss/repos/antartic bacteria/final_concatenated_output_2.csv\", index_col=0)\n"
     ]
    }
   ],
   "source": [
    "df = pd.read_csv(r\"/home/oskar-kiss/repos/antartic bacteria/final_concatenated_output_2.csv\", index_col=0)"
   ]
  },
  {
   "cell_type": "code",
   "execution_count": 4,
   "metadata": {},
   "outputs": [
    {
     "name": "stdout",
     "output_type": "stream",
     "text": [
      "<class 'pandas.core.frame.DataFrame'>\n",
      "Index: 91855 entries, 0 to 91854\n",
      "Data columns (total 12 columns):\n",
      " #   Column                             Non-Null Count  Dtype  \n",
      "---  ------                             --------------  -----  \n",
      " 0   sample_id                          91855 non-null  object \n",
      " 1   field_season                       91855 non-null  object \n",
      " 2   lake                               91855 non-null  object \n",
      " 3   limno_run                          91855 non-null  object \n",
      " 4   date                               91855 non-null  object \n",
      " 5   depth_(m)                          91855 non-null  object \n",
      " 6   green_algae_(µg_chl-a_l-1)         91854 non-null  object \n",
      " 7   cyanobacteria_(µg_chl-a_l-1)       91854 non-null  object \n",
      " 8   brown/mixed_algae_(µg_chl-a_l-1)   91854 non-null  object \n",
      " 9   cryptophytes_(µg_chl-a_l-1)        91854 non-null  object \n",
      " 10  yellow_substances__r.u.            91852 non-null  float64\n",
      " 11  total_chlorophyll__(µg_chl-a_l-1)  91854 non-null  object \n",
      "dtypes: float64(1), object(11)\n",
      "memory usage: 9.1+ MB\n"
     ]
    }
   ],
   "source": [
    "df.info()"
   ]
  },
  {
   "cell_type": "code",
   "execution_count": 5,
   "metadata": {},
   "outputs": [
    {
     "data": {
      "text/html": [
       "<div>\n",
       "<style scoped>\n",
       "    .dataframe tbody tr th:only-of-type {\n",
       "        vertical-align: middle;\n",
       "    }\n",
       "\n",
       "    .dataframe tbody tr th {\n",
       "        vertical-align: top;\n",
       "    }\n",
       "\n",
       "    .dataframe thead th {\n",
       "        text-align: right;\n",
       "    }\n",
       "</style>\n",
       "<table border=\"1\" class=\"dataframe\">\n",
       "  <thead>\n",
       "    <tr style=\"text-align: right;\">\n",
       "      <th></th>\n",
       "      <th>sample_id</th>\n",
       "      <th>field_season</th>\n",
       "      <th>lake</th>\n",
       "      <th>limno_run</th>\n",
       "      <th>date</th>\n",
       "      <th>depth_(m)</th>\n",
       "      <th>green_algae_(µg_chl-a_l-1)</th>\n",
       "      <th>cyanobacteria_(µg_chl-a_l-1)</th>\n",
       "      <th>brown/mixed_algae_(µg_chl-a_l-1)</th>\n",
       "      <th>cryptophytes_(µg_chl-a_l-1)</th>\n",
       "      <th>yellow_substances__r.u.</th>\n",
       "      <th>total_chlorophyll__(µg_chl-a_l-1)</th>\n",
       "    </tr>\n",
       "  </thead>\n",
       "  <tbody>\n",
       "    <tr>\n",
       "      <th>0</th>\n",
       "      <td>FRX0405L2</td>\n",
       "      <td>2004-05</td>\n",
       "      <td>FRX</td>\n",
       "      <td>L2</td>\n",
       "      <td>12.2.2004</td>\n",
       "      <td>0.38</td>\n",
       "      <td>0.0</td>\n",
       "      <td>0.46</td>\n",
       "      <td>0.0</td>\n",
       "      <td>0.0</td>\n",
       "      <td>0.00</td>\n",
       "      <td>0.46</td>\n",
       "    </tr>\n",
       "    <tr>\n",
       "      <th>1</th>\n",
       "      <td>FRX0405L2</td>\n",
       "      <td>2004-05</td>\n",
       "      <td>FRX</td>\n",
       "      <td>L2</td>\n",
       "      <td>12.2.2004</td>\n",
       "      <td>0.45</td>\n",
       "      <td>0.12</td>\n",
       "      <td>0.12</td>\n",
       "      <td>0.39</td>\n",
       "      <td>0.0</td>\n",
       "      <td>0.29</td>\n",
       "      <td>0.63</td>\n",
       "    </tr>\n",
       "    <tr>\n",
       "      <th>2</th>\n",
       "      <td>FRX0405L2</td>\n",
       "      <td>2004-05</td>\n",
       "      <td>FRX</td>\n",
       "      <td>L2</td>\n",
       "      <td>12.2.2004</td>\n",
       "      <td>0.67</td>\n",
       "      <td>0.11</td>\n",
       "      <td>0.0</td>\n",
       "      <td>0.41</td>\n",
       "      <td>0.2</td>\n",
       "      <td>0.11</td>\n",
       "      <td>0.71</td>\n",
       "    </tr>\n",
       "    <tr>\n",
       "      <th>3</th>\n",
       "      <td>FRX0405L2</td>\n",
       "      <td>2004-05</td>\n",
       "      <td>FRX</td>\n",
       "      <td>L2</td>\n",
       "      <td>12.2.2004</td>\n",
       "      <td>1.0</td>\n",
       "      <td>0.03</td>\n",
       "      <td>0.0</td>\n",
       "      <td>0.38</td>\n",
       "      <td>0.26</td>\n",
       "      <td>0.18</td>\n",
       "      <td>0.67</td>\n",
       "    </tr>\n",
       "    <tr>\n",
       "      <th>4</th>\n",
       "      <td>FRX0405L2</td>\n",
       "      <td>2004-05</td>\n",
       "      <td>FRX</td>\n",
       "      <td>L2</td>\n",
       "      <td>12.2.2004</td>\n",
       "      <td>1.05</td>\n",
       "      <td>0.37</td>\n",
       "      <td>0.0</td>\n",
       "      <td>0.59</td>\n",
       "      <td>0.0</td>\n",
       "      <td>0.04</td>\n",
       "      <td>0.96</td>\n",
       "    </tr>\n",
       "  </tbody>\n",
       "</table>\n",
       "</div>"
      ],
      "text/plain": [
       "   sample_id field_season lake limno_run       date depth_(m)  \\\n",
       "0  FRX0405L2      2004-05  FRX        L2  12.2.2004      0.38   \n",
       "1  FRX0405L2      2004-05  FRX        L2  12.2.2004      0.45   \n",
       "2  FRX0405L2      2004-05  FRX        L2  12.2.2004      0.67   \n",
       "3  FRX0405L2      2004-05  FRX        L2  12.2.2004       1.0   \n",
       "4  FRX0405L2      2004-05  FRX        L2  12.2.2004      1.05   \n",
       "\n",
       "  green_algae_(µg_chl-a_l-1) cyanobacteria_(µg_chl-a_l-1)  \\\n",
       "0                        0.0                         0.46   \n",
       "1                       0.12                         0.12   \n",
       "2                       0.11                          0.0   \n",
       "3                       0.03                          0.0   \n",
       "4                       0.37                          0.0   \n",
       "\n",
       "  brown/mixed_algae_(µg_chl-a_l-1) cryptophytes_(µg_chl-a_l-1)  \\\n",
       "0                              0.0                         0.0   \n",
       "1                             0.39                         0.0   \n",
       "2                             0.41                         0.2   \n",
       "3                             0.38                        0.26   \n",
       "4                             0.59                         0.0   \n",
       "\n",
       "   yellow_substances__r.u. total_chlorophyll__(µg_chl-a_l-1)  \n",
       "0                     0.00                              0.46  \n",
       "1                     0.29                              0.63  \n",
       "2                     0.11                              0.71  \n",
       "3                     0.18                              0.67  \n",
       "4                     0.04                              0.96  "
      ]
     },
     "execution_count": 5,
     "metadata": {},
     "output_type": "execute_result"
    }
   ],
   "source": [
    "df.head()"
   ]
  },
  {
   "cell_type": "code",
   "execution_count": 6,
   "metadata": {},
   "outputs": [
    {
     "name": "stdout",
     "output_type": "stream",
     "text": [
      "sample_id 250\n",
      "field_season 19\n",
      "lake 9\n",
      "limno_run 15\n",
      "date 246\n",
      "depth_(m) 9854\n",
      "green_algae_(µg_chl-a_l-1) 2979\n",
      "cyanobacteria_(µg_chl-a_l-1) 345\n",
      "brown/mixed_algae_(µg_chl-a_l-1) 2563\n",
      "cryptophytes_(µg_chl-a_l-1) 1168\n",
      "total_chlorophyll__(µg_chl-a_l-1) 4318\n"
     ]
    }
   ],
   "source": [
    "for col in df.select_dtypes(\"object\").columns:\n",
    "    print(col, len(set(df[col])))"
   ]
  },
  {
   "cell_type": "code",
   "execution_count": 7,
   "metadata": {},
   "outputs": [
    {
     "data": {
      "text/plain": [
       "Index(['sample_id', 'field_season', 'lake', 'limno_run', 'date', 'depth_(m)',\n",
       "       'green_algae_(µg_chl-a_l-1)', 'cyanobacteria_(µg_chl-a_l-1)',\n",
       "       'brown/mixed_algae_(µg_chl-a_l-1)', 'cryptophytes_(µg_chl-a_l-1)',\n",
       "       'yellow_substances__r.u.', 'total_chlorophyll__(µg_chl-a_l-1)'],\n",
       "      dtype='object')"
      ]
     },
     "execution_count": 7,
     "metadata": {},
     "output_type": "execute_result"
    }
   ],
   "source": [
    "df.columns"
   ]
  },
  {
   "cell_type": "code",
   "execution_count": 8,
   "metadata": {},
   "outputs": [],
   "source": [
    "df = df.rename(\n",
    "    columns={\n",
    "    \"green_algae_(µg_chl-a_l-1)\" : \"green_algae\",\n",
    "    \"cyanobacteria_(µg_chl-a_l-1)\" : \"cyanobacteria\",\n",
    "    \"brown/mixed_algae_(µg_chl-a_l-1)\" : \"brown/mixed_algae\",\n",
    "    \"cryptophytes_(µg_chl-a_l-1)\" : \"cryptophytes\",\n",
    "    \"total_chlorophyll__(µg_chl-a_l-1)\" : \"total_chlorophyll\",\n",
    "    \"yellow_substances__r.u.\" : \"yellow_substances\",\n",
    "    \"depth_(m)\" : \"depth\"\n",
    "})"
   ]
  },
  {
   "cell_type": "code",
   "execution_count": 9,
   "metadata": {},
   "outputs": [
    {
     "data": {
      "text/plain": [
       "Index(['sample_id', 'field_season', 'lake', 'limno_run', 'date', 'depth',\n",
       "       'green_algae', 'cyanobacteria', 'brown/mixed_algae', 'cryptophytes',\n",
       "       'yellow_substances', 'total_chlorophyll'],\n",
       "      dtype='object')"
      ]
     },
     "execution_count": 9,
     "metadata": {},
     "output_type": "execute_result"
    }
   ],
   "source": [
    "df.columns"
   ]
  },
  {
   "cell_type": "code",
   "execution_count": 10,
   "metadata": {},
   "outputs": [],
   "source": [
    "for column in [\"field_season\",\"lake\",\"limno_run\"]:\n",
    "    df[column] = df[column].astype(\"category\")"
   ]
  },
  {
   "cell_type": "code",
   "execution_count": 11,
   "metadata": {},
   "outputs": [
    {
     "name": "stdout",
     "output_type": "stream",
     "text": [
      "<class 'pandas.core.frame.DataFrame'>\n",
      "Index: 91855 entries, 0 to 91854\n",
      "Data columns (total 12 columns):\n",
      " #   Column             Non-Null Count  Dtype   \n",
      "---  ------             --------------  -----   \n",
      " 0   sample_id          91855 non-null  object  \n",
      " 1   field_season       91855 non-null  category\n",
      " 2   lake               91855 non-null  category\n",
      " 3   limno_run          91855 non-null  category\n",
      " 4   date               91855 non-null  object  \n",
      " 5   depth              91855 non-null  object  \n",
      " 6   green_algae        91854 non-null  object  \n",
      " 7   cyanobacteria      91854 non-null  object  \n",
      " 8   brown/mixed_algae  91854 non-null  object  \n",
      " 9   cryptophytes       91854 non-null  object  \n",
      " 10  yellow_substances  91852 non-null  float64 \n",
      " 11  total_chlorophyll  91854 non-null  object  \n",
      "dtypes: category(3), float64(1), object(8)\n",
      "memory usage: 7.3+ MB\n"
     ]
    }
   ],
   "source": [
    "df.info()"
   ]
  },
  {
   "cell_type": "code",
   "execution_count": 12,
   "metadata": {},
   "outputs": [
    {
     "name": "stdout",
     "output_type": "stream",
     "text": [
      "['18.12.2012', '29.12.2007', '25.11.2017', '21.12.2006', '12.29.2004', '10.11.2022', '11.12.2006', '14.12.2005', '04.01.2013', '01.04.2008', '17.12.2014', '22.12.2022', '13.11.2008', '12.12.2013', '05.01.2017', '12.12.2010', '26.11.2006', '22.11.2014', '07.12.2015', '13.12.2012']\n"
     ]
    }
   ],
   "source": [
    "print(list(set(df[\"date\"]))[:20])"
   ]
  },
  {
   "cell_type": "code",
   "execution_count": 13,
   "metadata": {},
   "outputs": [],
   "source": [
    "def align_dates(date:str):\n",
    "    try:\n",
    "        dates = list(map(int, date.split(\".\")))\n",
    "        year = dates[2]\n",
    "\n",
    "        if dates[0] > 12:\n",
    "            day = dates[0]\n",
    "            month = dates[1]\n",
    "        elif dates[0] <= 12:\n",
    "            day = dates[1]\n",
    "            month = dates[0]\n",
    "        \n",
    "        return f\"{year}-{month}-{day} 00:00:00.00\"\n",
    "\n",
    "    except ValueError as e:\n",
    "        try:\n",
    "            year, month, day = date.split(\"-\")\n",
    "            day = day.split(\" \")[0]\n",
    "            return f\"{year}-{month}-{day} 00:00:00.00\"\n",
    "\n",
    "        except Exception as e:\n",
    "            print(date)\n",
    "            return pd.NA\n",
    "\n",
    "    "
   ]
  },
  {
   "cell_type": "code",
   "execution_count": 14,
   "metadata": {},
   "outputs": [
    {
     "name": "stdout",
     "output_type": "stream",
     "text": [
      " \n",
      " \n"
     ]
    }
   ],
   "source": [
    "df[\"date\"] = pd.to_datetime(df[\"date\"].apply(align_dates), errors=\"coerce\")"
   ]
  },
  {
   "cell_type": "code",
   "execution_count": 15,
   "metadata": {},
   "outputs": [
    {
     "name": "stdout",
     "output_type": "stream",
     "text": [
      "<class 'pandas.core.frame.DataFrame'>\n",
      "Index: 91855 entries, 0 to 91854\n",
      "Data columns (total 12 columns):\n",
      " #   Column             Non-Null Count  Dtype         \n",
      "---  ------             --------------  -----         \n",
      " 0   sample_id          91855 non-null  object        \n",
      " 1   field_season       91855 non-null  category      \n",
      " 2   lake               91855 non-null  category      \n",
      " 3   limno_run          91855 non-null  category      \n",
      " 4   date               91853 non-null  datetime64[ns]\n",
      " 5   depth              91855 non-null  object        \n",
      " 6   green_algae        91854 non-null  object        \n",
      " 7   cyanobacteria      91854 non-null  object        \n",
      " 8   brown/mixed_algae  91854 non-null  object        \n",
      " 9   cryptophytes       91854 non-null  object        \n",
      " 10  yellow_substances  91852 non-null  float64       \n",
      " 11  total_chlorophyll  91854 non-null  object        \n",
      "dtypes: category(3), datetime64[ns](1), float64(1), object(7)\n",
      "memory usage: 7.3+ MB\n"
     ]
    }
   ],
   "source": [
    "df.info()"
   ]
  },
  {
   "cell_type": "code",
   "execution_count": 16,
   "metadata": {},
   "outputs": [
    {
     "data": {
      "text/html": [
       "<div>\n",
       "<style scoped>\n",
       "    .dataframe tbody tr th:only-of-type {\n",
       "        vertical-align: middle;\n",
       "    }\n",
       "\n",
       "    .dataframe tbody tr th {\n",
       "        vertical-align: top;\n",
       "    }\n",
       "\n",
       "    .dataframe thead th {\n",
       "        text-align: right;\n",
       "    }\n",
       "</style>\n",
       "<table border=\"1\" class=\"dataframe\">\n",
       "  <thead>\n",
       "    <tr style=\"text-align: right;\">\n",
       "      <th></th>\n",
       "      <th>sample_id</th>\n",
       "      <th>depth</th>\n",
       "      <th>green_algae</th>\n",
       "      <th>cyanobacteria</th>\n",
       "      <th>brown/mixed_algae</th>\n",
       "      <th>cryptophytes</th>\n",
       "      <th>total_chlorophyll</th>\n",
       "    </tr>\n",
       "  </thead>\n",
       "  <tbody>\n",
       "    <tr>\n",
       "      <th>0</th>\n",
       "      <td>FRX0405L2</td>\n",
       "      <td>0.38</td>\n",
       "      <td>0.0</td>\n",
       "      <td>0.46</td>\n",
       "      <td>0.0</td>\n",
       "      <td>0.0</td>\n",
       "      <td>0.46</td>\n",
       "    </tr>\n",
       "    <tr>\n",
       "      <th>1</th>\n",
       "      <td>FRX0405L2</td>\n",
       "      <td>0.45</td>\n",
       "      <td>0.12</td>\n",
       "      <td>0.12</td>\n",
       "      <td>0.39</td>\n",
       "      <td>0.0</td>\n",
       "      <td>0.63</td>\n",
       "    </tr>\n",
       "    <tr>\n",
       "      <th>2</th>\n",
       "      <td>FRX0405L2</td>\n",
       "      <td>0.67</td>\n",
       "      <td>0.11</td>\n",
       "      <td>0.0</td>\n",
       "      <td>0.41</td>\n",
       "      <td>0.2</td>\n",
       "      <td>0.71</td>\n",
       "    </tr>\n",
       "    <tr>\n",
       "      <th>3</th>\n",
       "      <td>FRX0405L2</td>\n",
       "      <td>1.0</td>\n",
       "      <td>0.03</td>\n",
       "      <td>0.0</td>\n",
       "      <td>0.38</td>\n",
       "      <td>0.26</td>\n",
       "      <td>0.67</td>\n",
       "    </tr>\n",
       "    <tr>\n",
       "      <th>4</th>\n",
       "      <td>FRX0405L2</td>\n",
       "      <td>1.05</td>\n",
       "      <td>0.37</td>\n",
       "      <td>0.0</td>\n",
       "      <td>0.59</td>\n",
       "      <td>0.0</td>\n",
       "      <td>0.96</td>\n",
       "    </tr>\n",
       "  </tbody>\n",
       "</table>\n",
       "</div>"
      ],
      "text/plain": [
       "   sample_id depth green_algae cyanobacteria brown/mixed_algae cryptophytes  \\\n",
       "0  FRX0405L2  0.38         0.0          0.46               0.0          0.0   \n",
       "1  FRX0405L2  0.45        0.12          0.12              0.39          0.0   \n",
       "2  FRX0405L2  0.67        0.11           0.0              0.41          0.2   \n",
       "3  FRX0405L2   1.0        0.03           0.0              0.38         0.26   \n",
       "4  FRX0405L2  1.05        0.37           0.0              0.59          0.0   \n",
       "\n",
       "  total_chlorophyll  \n",
       "0              0.46  \n",
       "1              0.63  \n",
       "2              0.71  \n",
       "3              0.67  \n",
       "4              0.96  "
      ]
     },
     "execution_count": 16,
     "metadata": {},
     "output_type": "execute_result"
    }
   ],
   "source": [
    "df.select_dtypes(\"object\").head()"
   ]
  },
  {
   "cell_type": "code",
   "execution_count": 17,
   "metadata": {},
   "outputs": [
    {
     "data": {
      "text/plain": [
       "250"
      ]
     },
     "execution_count": 17,
     "metadata": {},
     "output_type": "execute_result"
    }
   ],
   "source": [
    "len(set(df[\"sample_id\"]))"
   ]
  },
  {
   "cell_type": "code",
   "execution_count": 18,
   "metadata": {},
   "outputs": [],
   "source": [
    "df[\"sample_id\"] = df[\"sample_id\"].astype(\"category\")"
   ]
  },
  {
   "cell_type": "code",
   "execution_count": 19,
   "metadata": {},
   "outputs": [
    {
     "data": {
      "text/html": [
       "<div>\n",
       "<style scoped>\n",
       "    .dataframe tbody tr th:only-of-type {\n",
       "        vertical-align: middle;\n",
       "    }\n",
       "\n",
       "    .dataframe tbody tr th {\n",
       "        vertical-align: top;\n",
       "    }\n",
       "\n",
       "    .dataframe thead th {\n",
       "        text-align: right;\n",
       "    }\n",
       "</style>\n",
       "<table border=\"1\" class=\"dataframe\">\n",
       "  <thead>\n",
       "    <tr style=\"text-align: right;\">\n",
       "      <th></th>\n",
       "      <th>depth</th>\n",
       "      <th>green_algae</th>\n",
       "      <th>cyanobacteria</th>\n",
       "      <th>brown/mixed_algae</th>\n",
       "      <th>cryptophytes</th>\n",
       "      <th>total_chlorophyll</th>\n",
       "    </tr>\n",
       "  </thead>\n",
       "  <tbody>\n",
       "    <tr>\n",
       "      <th>0</th>\n",
       "      <td>0.38</td>\n",
       "      <td>0.0</td>\n",
       "      <td>0.46</td>\n",
       "      <td>0.0</td>\n",
       "      <td>0.0</td>\n",
       "      <td>0.46</td>\n",
       "    </tr>\n",
       "    <tr>\n",
       "      <th>1</th>\n",
       "      <td>0.45</td>\n",
       "      <td>0.12</td>\n",
       "      <td>0.12</td>\n",
       "      <td>0.39</td>\n",
       "      <td>0.0</td>\n",
       "      <td>0.63</td>\n",
       "    </tr>\n",
       "    <tr>\n",
       "      <th>2</th>\n",
       "      <td>0.67</td>\n",
       "      <td>0.11</td>\n",
       "      <td>0.0</td>\n",
       "      <td>0.41</td>\n",
       "      <td>0.2</td>\n",
       "      <td>0.71</td>\n",
       "    </tr>\n",
       "    <tr>\n",
       "      <th>3</th>\n",
       "      <td>1.0</td>\n",
       "      <td>0.03</td>\n",
       "      <td>0.0</td>\n",
       "      <td>0.38</td>\n",
       "      <td>0.26</td>\n",
       "      <td>0.67</td>\n",
       "    </tr>\n",
       "    <tr>\n",
       "      <th>4</th>\n",
       "      <td>1.05</td>\n",
       "      <td>0.37</td>\n",
       "      <td>0.0</td>\n",
       "      <td>0.59</td>\n",
       "      <td>0.0</td>\n",
       "      <td>0.96</td>\n",
       "    </tr>\n",
       "  </tbody>\n",
       "</table>\n",
       "</div>"
      ],
      "text/plain": [
       "  depth green_algae cyanobacteria brown/mixed_algae cryptophytes  \\\n",
       "0  0.38         0.0          0.46               0.0          0.0   \n",
       "1  0.45        0.12          0.12              0.39          0.0   \n",
       "2  0.67        0.11           0.0              0.41          0.2   \n",
       "3   1.0        0.03           0.0              0.38         0.26   \n",
       "4  1.05        0.37           0.0              0.59          0.0   \n",
       "\n",
       "  total_chlorophyll  \n",
       "0              0.46  \n",
       "1              0.63  \n",
       "2              0.71  \n",
       "3              0.67  \n",
       "4              0.96  "
      ]
     },
     "execution_count": 19,
     "metadata": {},
     "output_type": "execute_result"
    }
   ],
   "source": [
    "df.select_dtypes(\"object\").head()"
   ]
  },
  {
   "cell_type": "code",
   "execution_count": 20,
   "metadata": {},
   "outputs": [],
   "source": [
    "df['depth'] = df[\"depth\"].replace(to_replace=\"m\", value=np.nan).astype(\"float64\")"
   ]
  },
  {
   "cell_type": "code",
   "execution_count": 21,
   "metadata": {},
   "outputs": [],
   "source": [
    "df[\"green_algae\"] = df[\"green_algae\"].replace(\"µg/l\", np.nan).astype(\"float64\")"
   ]
  },
  {
   "cell_type": "code",
   "execution_count": 22,
   "metadata": {},
   "outputs": [],
   "source": [
    "df[\"cyanobacteria\"] = df[\"cyanobacteria\"].replace(\"µg/l\", np.nan).astype(\"float64\")"
   ]
  },
  {
   "cell_type": "code",
   "execution_count": 23,
   "metadata": {},
   "outputs": [],
   "source": [
    "df[\"brown/mixed_algae\"] = df[\"brown/mixed_algae\"].replace(\"µg/l\", np.nan).astype(\"float64\")"
   ]
  },
  {
   "cell_type": "code",
   "execution_count": 24,
   "metadata": {},
   "outputs": [],
   "source": [
    "df[\"cryptophytes\"] = df[\"cryptophytes\"].replace(\"µg/l\", np.nan).astype(\"float64\")"
   ]
  },
  {
   "cell_type": "code",
   "execution_count": 25,
   "metadata": {},
   "outputs": [],
   "source": [
    "df[\"total_chlorophyll\"] = df[\"total_chlorophyll\"].replace(\"µg/l\", np.nan).astype(\"float64\")"
   ]
  },
  {
   "cell_type": "code",
   "execution_count": 26,
   "metadata": {},
   "outputs": [
    {
     "name": "stdout",
     "output_type": "stream",
     "text": [
      "<class 'pandas.core.frame.DataFrame'>\n",
      "Index: 91855 entries, 0 to 91854\n",
      "Data columns (total 12 columns):\n",
      " #   Column             Non-Null Count  Dtype         \n",
      "---  ------             --------------  -----         \n",
      " 0   sample_id          91855 non-null  category      \n",
      " 1   field_season       91855 non-null  category      \n",
      " 2   lake               91855 non-null  category      \n",
      " 3   limno_run          91855 non-null  category      \n",
      " 4   date               91853 non-null  datetime64[ns]\n",
      " 5   depth              91853 non-null  float64       \n",
      " 6   green_algae        91852 non-null  float64       \n",
      " 7   cyanobacteria      91852 non-null  float64       \n",
      " 8   brown/mixed_algae  91852 non-null  float64       \n",
      " 9   cryptophytes       91852 non-null  float64       \n",
      " 10  yellow_substances  91852 non-null  float64       \n",
      " 11  total_chlorophyll  91852 non-null  float64       \n",
      "dtypes: category(4), datetime64[ns](1), float64(7)\n",
      "memory usage: 6.8 MB\n"
     ]
    }
   ],
   "source": [
    "df.info()"
   ]
  },
  {
   "cell_type": "code",
   "execution_count": 27,
   "metadata": {},
   "outputs": [],
   "source": [
    "minimum_date = df[\"date\"].min()\n",
    "elapsed_days = []\n",
    "\n",
    "for index in df.index:\n",
    "    value = df.at[index, \"date\"] - minimum_date\n",
    "    elapsed_days.append(value)"
   ]
  },
  {
   "cell_type": "code",
   "execution_count": 28,
   "metadata": {},
   "outputs": [],
   "source": [
    "df.insert(loc=5, column=\"elapsed_days\", value=elapsed_days)"
   ]
  },
  {
   "cell_type": "code",
   "execution_count": 29,
   "metadata": {},
   "outputs": [
    {
     "name": "stdout",
     "output_type": "stream",
     "text": [
      "<class 'pandas.core.frame.DataFrame'>\n",
      "Index: 91855 entries, 0 to 91854\n",
      "Data columns (total 13 columns):\n",
      " #   Column             Non-Null Count  Dtype          \n",
      "---  ------             --------------  -----          \n",
      " 0   sample_id          91855 non-null  category       \n",
      " 1   field_season       91855 non-null  category       \n",
      " 2   lake               91855 non-null  category       \n",
      " 3   limno_run          91855 non-null  category       \n",
      " 4   date               91853 non-null  datetime64[ns] \n",
      " 5   elapsed_days       91853 non-null  timedelta64[ns]\n",
      " 6   depth              91853 non-null  float64        \n",
      " 7   green_algae        91852 non-null  float64        \n",
      " 8   cyanobacteria      91852 non-null  float64        \n",
      " 9   brown/mixed_algae  91852 non-null  float64        \n",
      " 10  cryptophytes       91852 non-null  float64        \n",
      " 11  yellow_substances  91852 non-null  float64        \n",
      " 12  total_chlorophyll  91852 non-null  float64        \n",
      "dtypes: category(4), datetime64[ns](1), float64(7), timedelta64[ns](1)\n",
      "memory usage: 9.5 MB\n"
     ]
    }
   ],
   "source": [
    "df.info()"
   ]
  },
  {
   "cell_type": "code",
   "execution_count": 31,
   "metadata": {},
   "outputs": [],
   "source": [
    "df = df.dropna(how=\"any\")"
   ]
  },
  {
   "cell_type": "code",
   "execution_count": 32,
   "metadata": {},
   "outputs": [],
   "source": [
    "df.to_feather(r\"/home/oskar-kiss/repos/antartic bacteria/clean_data.feather\")"
   ]
  }
 ],
 "metadata": {
  "kernelspec": {
   "display_name": ".venv",
   "language": "python",
   "name": "python3"
  },
  "language_info": {
   "codemirror_mode": {
    "name": "ipython",
    "version": 3
   },
   "file_extension": ".py",
   "mimetype": "text/x-python",
   "name": "python",
   "nbconvert_exporter": "python",
   "pygments_lexer": "ipython3",
   "version": "3.12.3"
  }
 },
 "nbformat": 4,
 "nbformat_minor": 2
}
