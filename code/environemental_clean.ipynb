{
 "cells": [
  {
   "cell_type": "code",
   "execution_count": 7,
   "metadata": {},
   "outputs": [],
   "source": [
    "import pandas as pd\n",
    "import numpy as np"
   ]
  },
  {
   "cell_type": "code",
   "execution_count": 8,
   "metadata": {},
   "outputs": [],
   "source": [
    "ctd_df = pd.read_excel(r\"/home/oskar-kiss/repos/antartic bacteria/mcmlter-lake-ctd-20231023.xlsx\")"
   ]
  },
  {
   "cell_type": "code",
   "execution_count": 9,
   "metadata": {},
   "outputs": [
    {
     "name": "stdout",
     "output_type": "stream",
     "text": [
      "<class 'pandas.core.frame.DataFrame'>\n",
      "RangeIndex: 76568 entries, 0 to 76567\n",
      "Data columns (total 8 columns):\n",
      " #   Column                 Non-Null Count  Dtype         \n",
      "---  ------                 --------------  -----         \n",
      " 0   dataset_code           76568 non-null  object        \n",
      " 1   limno_run              76568 non-null  object        \n",
      " 2   location_name          76568 non-null  object        \n",
      " 3   location_code          76568 non-null  object        \n",
      " 4   depth_m                76540 non-null  float64       \n",
      " 5   ctd_conductivity_mscm  76311 non-null  float64       \n",
      " 6   ctd_temp_c             76400 non-null  float64       \n",
      " 7   date_time              76568 non-null  datetime64[ns]\n",
      "dtypes: datetime64[ns](1), float64(3), object(4)\n",
      "memory usage: 4.7+ MB\n"
     ]
    }
   ],
   "source": [
    "ctd_df.info()"
   ]
  },
  {
   "cell_type": "code",
   "execution_count": 10,
   "metadata": {},
   "outputs": [
    {
     "data": {
      "text/html": [
       "<div>\n",
       "<style scoped>\n",
       "    .dataframe tbody tr th:only-of-type {\n",
       "        vertical-align: middle;\n",
       "    }\n",
       "\n",
       "    .dataframe tbody tr th {\n",
       "        vertical-align: top;\n",
       "    }\n",
       "\n",
       "    .dataframe thead th {\n",
       "        text-align: right;\n",
       "    }\n",
       "</style>\n",
       "<table border=\"1\" class=\"dataframe\">\n",
       "  <thead>\n",
       "    <tr style=\"text-align: right;\">\n",
       "      <th></th>\n",
       "      <th>dataset_code</th>\n",
       "      <th>limno_run</th>\n",
       "      <th>location_name</th>\n",
       "      <th>location_code</th>\n",
       "      <th>depth_m</th>\n",
       "      <th>ctd_conductivity_mscm</th>\n",
       "      <th>ctd_temp_c</th>\n",
       "      <th>date_time</th>\n",
       "    </tr>\n",
       "  </thead>\n",
       "  <tbody>\n",
       "    <tr>\n",
       "      <th>0</th>\n",
       "      <td>LIMNO_CTD</td>\n",
       "      <td>JOY9394</td>\n",
       "      <td>Lake Joyce</td>\n",
       "      <td>JOYLT1</td>\n",
       "      <td>0.102</td>\n",
       "      <td>0.1017</td>\n",
       "      <td>0.020</td>\n",
       "      <td>1993-12-06</td>\n",
       "    </tr>\n",
       "    <tr>\n",
       "      <th>1</th>\n",
       "      <td>LIMNO_CTD</td>\n",
       "      <td>JOY9394</td>\n",
       "      <td>Lake Joyce</td>\n",
       "      <td>JOYLT1</td>\n",
       "      <td>0.204</td>\n",
       "      <td>0.1065</td>\n",
       "      <td>0.020</td>\n",
       "      <td>1993-12-06</td>\n",
       "    </tr>\n",
       "    <tr>\n",
       "      <th>2</th>\n",
       "      <td>LIMNO_CTD</td>\n",
       "      <td>JOY9394</td>\n",
       "      <td>Lake Joyce</td>\n",
       "      <td>JOYLT1</td>\n",
       "      <td>0.306</td>\n",
       "      <td>0.1079</td>\n",
       "      <td>0.020</td>\n",
       "      <td>1993-12-06</td>\n",
       "    </tr>\n",
       "    <tr>\n",
       "      <th>3</th>\n",
       "      <td>LIMNO_CTD</td>\n",
       "      <td>JOY9394</td>\n",
       "      <td>Lake Joyce</td>\n",
       "      <td>JOYLT1</td>\n",
       "      <td>0.408</td>\n",
       "      <td>0.1087</td>\n",
       "      <td>0.019</td>\n",
       "      <td>1993-12-06</td>\n",
       "    </tr>\n",
       "    <tr>\n",
       "      <th>4</th>\n",
       "      <td>LIMNO_CTD</td>\n",
       "      <td>JOY9394</td>\n",
       "      <td>Lake Joyce</td>\n",
       "      <td>JOYLT1</td>\n",
       "      <td>0.510</td>\n",
       "      <td>0.1162</td>\n",
       "      <td>0.020</td>\n",
       "      <td>1993-12-06</td>\n",
       "    </tr>\n",
       "  </tbody>\n",
       "</table>\n",
       "</div>"
      ],
      "text/plain": [
       "  dataset_code limno_run location_name location_code  depth_m  \\\n",
       "0    LIMNO_CTD   JOY9394    Lake Joyce        JOYLT1    0.102   \n",
       "1    LIMNO_CTD   JOY9394    Lake Joyce        JOYLT1    0.204   \n",
       "2    LIMNO_CTD   JOY9394    Lake Joyce        JOYLT1    0.306   \n",
       "3    LIMNO_CTD   JOY9394    Lake Joyce        JOYLT1    0.408   \n",
       "4    LIMNO_CTD   JOY9394    Lake Joyce        JOYLT1    0.510   \n",
       "\n",
       "   ctd_conductivity_mscm  ctd_temp_c  date_time  \n",
       "0                 0.1017       0.020 1993-12-06  \n",
       "1                 0.1065       0.020 1993-12-06  \n",
       "2                 0.1079       0.020 1993-12-06  \n",
       "3                 0.1087       0.019 1993-12-06  \n",
       "4                 0.1162       0.020 1993-12-06  "
      ]
     },
     "execution_count": 10,
     "metadata": {},
     "output_type": "execute_result"
    }
   ],
   "source": [
    "ctd_df.head()"
   ]
  },
  {
   "cell_type": "code",
   "execution_count": 11,
   "metadata": {},
   "outputs": [
    {
     "name": "stdout",
     "output_type": "stream",
     "text": [
      "dataset_code 1\n",
      "limno_run 376\n",
      "location_name 8\n",
      "location_code 8\n"
     ]
    }
   ],
   "source": [
    "for c in ctd_df.select_dtypes(\"object\").columns:\n",
    "    print(f\"{c} {len(set(ctd_df[c]))}\")"
   ]
  },
  {
   "cell_type": "code",
   "execution_count": 12,
   "metadata": {},
   "outputs": [],
   "source": [
    "for c in ctd_df.select_dtypes(\"object\").columns:\n",
    "    ctd_df[c] = ctd_df[c].astype(\"category\")"
   ]
  },
  {
   "cell_type": "code",
   "execution_count": 13,
   "metadata": {},
   "outputs": [],
   "source": [
    "ctd_df.to_csv(\"/home/oskar-kiss/repos/antartic bacteria/mcmlter-lake-ctd-20231023.csv\")"
   ]
  },
  {
   "cell_type": "code",
   "execution_count": 14,
   "metadata": {},
   "outputs": [],
   "source": [
    "nutrient_df = pd.read_excel(r\"/home/oskar-kiss/repos/antartic bacteria/data/raw_data/mcmlter-lake-nutrients-20220317 (1).xlsx\")"
   ]
  },
  {
   "cell_type": "code",
   "execution_count": 17,
   "metadata": {},
   "outputs": [
    {
     "name": "stdout",
     "output_type": "stream",
     "text": [
      "<class 'pandas.core.frame.DataFrame'>\n",
      "RangeIndex: 5142 entries, 0 to 5141\n",
      "Data columns (total 10 columns):\n",
      " #   Column         Non-Null Count  Dtype         \n",
      "---  ------         --------------  -----         \n",
      " 0   dataset_code   5142 non-null   object        \n",
      " 1   limno_run      5142 non-null   object        \n",
      " 2   location_name  5142 non-null   object        \n",
      " 3   location_code  5142 non-null   object        \n",
      " 4   date_time      5142 non-null   datetime64[ns]\n",
      " 5   depth_m        5141 non-null   float64       \n",
      " 6   nh4_um         4042 non-null   float64       \n",
      " 7   no2_um         3957 non-null   float64       \n",
      " 8   no3_um         4330 non-null   float64       \n",
      " 9   srp_um         3277 non-null   float64       \n",
      "dtypes: datetime64[ns](1), float64(5), object(4)\n",
      "memory usage: 401.8+ KB\n"
     ]
    }
   ],
   "source": [
    "nutrient_df.info()"
   ]
  },
  {
   "cell_type": "code",
   "execution_count": 18,
   "metadata": {},
   "outputs": [
    {
     "data": {
      "text/html": [
       "<div>\n",
       "<style scoped>\n",
       "    .dataframe tbody tr th:only-of-type {\n",
       "        vertical-align: middle;\n",
       "    }\n",
       "\n",
       "    .dataframe tbody tr th {\n",
       "        vertical-align: top;\n",
       "    }\n",
       "\n",
       "    .dataframe thead th {\n",
       "        text-align: right;\n",
       "    }\n",
       "</style>\n",
       "<table border=\"1\" class=\"dataframe\">\n",
       "  <thead>\n",
       "    <tr style=\"text-align: right;\">\n",
       "      <th></th>\n",
       "      <th>dataset_code</th>\n",
       "      <th>limno_run</th>\n",
       "      <th>location_name</th>\n",
       "      <th>location_code</th>\n",
       "      <th>date_time</th>\n",
       "      <th>depth_m</th>\n",
       "      <th>nh4_um</th>\n",
       "      <th>no2_um</th>\n",
       "      <th>no3_um</th>\n",
       "      <th>srp_um</th>\n",
       "    </tr>\n",
       "  </thead>\n",
       "  <tbody>\n",
       "    <tr>\n",
       "      <th>0</th>\n",
       "      <td>LIMNO_NUTRIENTS</td>\n",
       "      <td>EB9394L1</td>\n",
       "      <td>East Lake Bonney</td>\n",
       "      <td>BONE30</td>\n",
       "      <td>1993-10-27</td>\n",
       "      <td>4.0</td>\n",
       "      <td>2.2</td>\n",
       "      <td>0.13</td>\n",
       "      <td>7.2</td>\n",
       "      <td>0.34</td>\n",
       "    </tr>\n",
       "    <tr>\n",
       "      <th>1</th>\n",
       "      <td>LIMNO_NUTRIENTS</td>\n",
       "      <td>EB9394L1</td>\n",
       "      <td>East Lake Bonney</td>\n",
       "      <td>BONE30</td>\n",
       "      <td>1993-10-27</td>\n",
       "      <td>6.0</td>\n",
       "      <td>1.6</td>\n",
       "      <td>0.11</td>\n",
       "      <td>7.2</td>\n",
       "      <td>0.47</td>\n",
       "    </tr>\n",
       "    <tr>\n",
       "      <th>2</th>\n",
       "      <td>LIMNO_NUTRIENTS</td>\n",
       "      <td>EB9394L1</td>\n",
       "      <td>East Lake Bonney</td>\n",
       "      <td>BONE30</td>\n",
       "      <td>1993-10-27</td>\n",
       "      <td>8.0</td>\n",
       "      <td>0.6</td>\n",
       "      <td>0.12</td>\n",
       "      <td>9.8</td>\n",
       "      <td>0.36</td>\n",
       "    </tr>\n",
       "    <tr>\n",
       "      <th>3</th>\n",
       "      <td>LIMNO_NUTRIENTS</td>\n",
       "      <td>EB9394L1</td>\n",
       "      <td>East Lake Bonney</td>\n",
       "      <td>BONE30</td>\n",
       "      <td>1993-10-27</td>\n",
       "      <td>10.0</td>\n",
       "      <td>0.5</td>\n",
       "      <td>0.13</td>\n",
       "      <td>11.9</td>\n",
       "      <td>0.28</td>\n",
       "    </tr>\n",
       "    <tr>\n",
       "      <th>4</th>\n",
       "      <td>LIMNO_NUTRIENTS</td>\n",
       "      <td>EB9394L1</td>\n",
       "      <td>East Lake Bonney</td>\n",
       "      <td>BONE30</td>\n",
       "      <td>1993-10-27</td>\n",
       "      <td>12.0</td>\n",
       "      <td>1.8</td>\n",
       "      <td>0.18</td>\n",
       "      <td>16.6</td>\n",
       "      <td>0.58</td>\n",
       "    </tr>\n",
       "  </tbody>\n",
       "</table>\n",
       "</div>"
      ],
      "text/plain": [
       "      dataset_code limno_run     location_name location_code  date_time  \\\n",
       "0  LIMNO_NUTRIENTS  EB9394L1  East Lake Bonney        BONE30 1993-10-27   \n",
       "1  LIMNO_NUTRIENTS  EB9394L1  East Lake Bonney        BONE30 1993-10-27   \n",
       "2  LIMNO_NUTRIENTS  EB9394L1  East Lake Bonney        BONE30 1993-10-27   \n",
       "3  LIMNO_NUTRIENTS  EB9394L1  East Lake Bonney        BONE30 1993-10-27   \n",
       "4  LIMNO_NUTRIENTS  EB9394L1  East Lake Bonney        BONE30 1993-10-27   \n",
       "\n",
       "   depth_m  nh4_um  no2_um  no3_um  srp_um  \n",
       "0      4.0     2.2    0.13     7.2    0.34  \n",
       "1      6.0     1.6    0.11     7.2    0.47  \n",
       "2      8.0     0.6    0.12     9.8    0.36  \n",
       "3     10.0     0.5    0.13    11.9    0.28  \n",
       "4     12.0     1.8    0.18    16.6    0.58  "
      ]
     },
     "execution_count": 18,
     "metadata": {},
     "output_type": "execute_result"
    }
   ],
   "source": [
    "nutrient_df.head()"
   ]
  },
  {
   "cell_type": "code",
   "execution_count": 19,
   "metadata": {},
   "outputs": [
    {
     "name": "stdout",
     "output_type": "stream",
     "text": [
      "dataset_code 1\n",
      "limno_run 376\n",
      "location_name 8\n",
      "location_code 8\n"
     ]
    }
   ],
   "source": [
    "for c in nutrient_df.select_dtypes(\"object\").columns:\n",
    "    print(f\"{c} {len(set(ctd_df[c]))}\")"
   ]
  },
  {
   "cell_type": "code",
   "execution_count": 20,
   "metadata": {},
   "outputs": [],
   "source": [
    "for c in ctd_df.select_dtypes(\"object\").columns:\n",
    "    ctd_df[c] = ctd_df[c].astype(\"category\")"
   ]
  },
  {
   "cell_type": "code",
   "execution_count": 23,
   "metadata": {},
   "outputs": [],
   "source": [
    "nutrient_df.to_csv(\"/home/oskar-kiss/repos/antartic bacteria/data/clean_data/nutrient_measurements_clean.csv\")"
   ]
  },
  {
   "cell_type": "code",
   "execution_count": 24,
   "metadata": {},
   "outputs": [],
   "source": [
    "par_df = pd.read_excel(\"/home/oskar-kiss/repos/antartic bacteria/data/raw_data/mcmlter-lake-par_profile-20240109.xlsx\")"
   ]
  },
  {
   "cell_type": "code",
   "execution_count": 25,
   "metadata": {},
   "outputs": [
    {
     "name": "stdout",
     "output_type": "stream",
     "text": [
      "<class 'pandas.core.frame.DataFrame'>\n",
      "RangeIndex: 15336 entries, 0 to 15335\n",
      "Data columns (total 7 columns):\n",
      " #   Column                  Non-Null Count  Dtype         \n",
      "---  ------                  --------------  -----         \n",
      " 0   dataset_code            15336 non-null  object        \n",
      " 1   location_name           15336 non-null  object        \n",
      " 2   location_code           15336 non-null  object        \n",
      " 3   limno_run               15336 non-null  object        \n",
      " 4   date_time               15336 non-null  datetime64[ns]\n",
      " 5   depth_m                 15325 non-null  float64       \n",
      " 6   uwpar_umol_photons_m2s  15322 non-null  float64       \n",
      "dtypes: datetime64[ns](1), float64(2), object(4)\n",
      "memory usage: 838.8+ KB\n"
     ]
    }
   ],
   "source": [
    "par_df.info()"
   ]
  },
  {
   "cell_type": "code",
   "execution_count": 26,
   "metadata": {},
   "outputs": [
    {
     "data": {
      "text/html": [
       "<div>\n",
       "<style scoped>\n",
       "    .dataframe tbody tr th:only-of-type {\n",
       "        vertical-align: middle;\n",
       "    }\n",
       "\n",
       "    .dataframe tbody tr th {\n",
       "        vertical-align: top;\n",
       "    }\n",
       "\n",
       "    .dataframe thead th {\n",
       "        text-align: right;\n",
       "    }\n",
       "</style>\n",
       "<table border=\"1\" class=\"dataframe\">\n",
       "  <thead>\n",
       "    <tr style=\"text-align: right;\">\n",
       "      <th></th>\n",
       "      <th>dataset_code</th>\n",
       "      <th>location_name</th>\n",
       "      <th>location_code</th>\n",
       "      <th>limno_run</th>\n",
       "      <th>date_time</th>\n",
       "      <th>depth_m</th>\n",
       "      <th>uwpar_umol_photons_m2s</th>\n",
       "    </tr>\n",
       "  </thead>\n",
       "  <tbody>\n",
       "    <tr>\n",
       "      <th>0</th>\n",
       "      <td>LIMNO_PAR_PROFILE</td>\n",
       "      <td>West Lake Bonney</td>\n",
       "      <td>BONW20</td>\n",
       "      <td>WB9394L1</td>\n",
       "      <td>1993-10-28</td>\n",
       "      <td>4.0</td>\n",
       "      <td>26.32</td>\n",
       "    </tr>\n",
       "    <tr>\n",
       "      <th>1</th>\n",
       "      <td>LIMNO_PAR_PROFILE</td>\n",
       "      <td>West Lake Bonney</td>\n",
       "      <td>BONW20</td>\n",
       "      <td>WB9394L1</td>\n",
       "      <td>1993-10-28</td>\n",
       "      <td>4.5</td>\n",
       "      <td>23.18</td>\n",
       "    </tr>\n",
       "    <tr>\n",
       "      <th>2</th>\n",
       "      <td>LIMNO_PAR_PROFILE</td>\n",
       "      <td>West Lake Bonney</td>\n",
       "      <td>BONW20</td>\n",
       "      <td>WB9394L1</td>\n",
       "      <td>1993-10-28</td>\n",
       "      <td>5.0</td>\n",
       "      <td>21.14</td>\n",
       "    </tr>\n",
       "    <tr>\n",
       "      <th>3</th>\n",
       "      <td>LIMNO_PAR_PROFILE</td>\n",
       "      <td>West Lake Bonney</td>\n",
       "      <td>BONW20</td>\n",
       "      <td>WB9394L1</td>\n",
       "      <td>1993-10-28</td>\n",
       "      <td>5.5</td>\n",
       "      <td>18.90</td>\n",
       "    </tr>\n",
       "    <tr>\n",
       "      <th>4</th>\n",
       "      <td>LIMNO_PAR_PROFILE</td>\n",
       "      <td>West Lake Bonney</td>\n",
       "      <td>BONW20</td>\n",
       "      <td>WB9394L1</td>\n",
       "      <td>1993-10-28</td>\n",
       "      <td>6.0</td>\n",
       "      <td>17.33</td>\n",
       "    </tr>\n",
       "  </tbody>\n",
       "</table>\n",
       "</div>"
      ],
      "text/plain": [
       "        dataset_code     location_name location_code limno_run  date_time  \\\n",
       "0  LIMNO_PAR_PROFILE  West Lake Bonney        BONW20  WB9394L1 1993-10-28   \n",
       "1  LIMNO_PAR_PROFILE  West Lake Bonney        BONW20  WB9394L1 1993-10-28   \n",
       "2  LIMNO_PAR_PROFILE  West Lake Bonney        BONW20  WB9394L1 1993-10-28   \n",
       "3  LIMNO_PAR_PROFILE  West Lake Bonney        BONW20  WB9394L1 1993-10-28   \n",
       "4  LIMNO_PAR_PROFILE  West Lake Bonney        BONW20  WB9394L1 1993-10-28   \n",
       "\n",
       "   depth_m  uwpar_umol_photons_m2s  \n",
       "0      4.0                   26.32  \n",
       "1      4.5                   23.18  \n",
       "2      5.0                   21.14  \n",
       "3      5.5                   18.90  \n",
       "4      6.0                   17.33  "
      ]
     },
     "execution_count": 26,
     "metadata": {},
     "output_type": "execute_result"
    }
   ],
   "source": [
    "par_df.head()"
   ]
  },
  {
   "cell_type": "code",
   "execution_count": 27,
   "metadata": {},
   "outputs": [
    {
     "name": "stdout",
     "output_type": "stream",
     "text": [
      "dataset_code 1\n",
      "location_name 8\n",
      "location_code 8\n",
      "limno_run 376\n"
     ]
    }
   ],
   "source": [
    "for c in par_df.select_dtypes(\"object\").columns:\n",
    "    print(f\"{c} {len(set(ctd_df[c]))}\")"
   ]
  },
  {
   "cell_type": "code",
   "execution_count": 28,
   "metadata": {},
   "outputs": [],
   "source": [
    "for c in ctd_df.select_dtypes(\"object\").columns:\n",
    "    ctd_df[c] = ctd_df[c].astype(\"category\")"
   ]
  },
  {
   "cell_type": "code",
   "execution_count": 29,
   "metadata": {},
   "outputs": [],
   "source": [
    "par_df.to_csv(\"/home/oskar-kiss/repos/antartic bacteria/data/clean_data/par_measurements_clean.csv\")"
   ]
  }
 ],
 "metadata": {
  "kernelspec": {
   "display_name": ".venv",
   "language": "python",
   "name": "python3"
  },
  "language_info": {
   "codemirror_mode": {
    "name": "ipython",
    "version": 3
   },
   "file_extension": ".py",
   "mimetype": "text/x-python",
   "name": "python",
   "nbconvert_exporter": "python",
   "pygments_lexer": "ipython3",
   "version": "3.12.3"
  }
 },
 "nbformat": 4,
 "nbformat_minor": 2
}
