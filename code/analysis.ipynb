{
 "cells": [
  {
   "cell_type": "code",
   "execution_count": 1,
   "metadata": {},
   "outputs": [],
   "source": [
    "import pandas as pd\n",
    "import numpy as np\n",
    "import seaborn as sns\n",
    "from matplotlib import pyplot as plt\n",
    "import datetime as dt\n",
    "from pprint import pprint\n",
    "from scipy import stats"
   ]
  },
  {
   "cell_type": "code",
   "execution_count": 2,
   "metadata": {},
   "outputs": [
    {
     "name": "stdout",
     "output_type": "stream",
     "text": [
      "<class 'pandas.core.frame.DataFrame'>\n",
      "Index: 91852 entries, 0 to 91854\n",
      "Data columns (total 13 columns):\n",
      " #   Column             Non-Null Count  Dtype          \n",
      "---  ------             --------------  -----          \n",
      " 0   sample_id          91852 non-null  category       \n",
      " 1   field_season       91852 non-null  category       \n",
      " 2   lake               91852 non-null  category       \n",
      " 3   limno_run          91852 non-null  category       \n",
      " 4   date               91852 non-null  datetime64[ns] \n",
      " 5   elapsed_days       91852 non-null  timedelta64[ns]\n",
      " 6   depth              91852 non-null  float64        \n",
      " 7   green_algae        91852 non-null  float64        \n",
      " 8   cyanobacteria      91852 non-null  float64        \n",
      " 9   brown/mixed_algae  91852 non-null  float64        \n",
      " 10  cryptophytes       91852 non-null  float64        \n",
      " 11  yellow_substances  91852 non-null  float64        \n",
      " 12  total_chlorophyll  91852 non-null  float64        \n",
      "dtypes: category(4), datetime64[ns](1), float64(7), timedelta64[ns](1)\n",
      "memory usage: 7.5 MB\n"
     ]
    }
   ],
   "source": [
    "df = pd.read_feather(r\"/home/oskar-kiss/repos/antartic bacteria/clean_data.feather\")\n",
    "df.info()"
   ]
  },
  {
   "cell_type": "code",
   "execution_count": 8,
   "metadata": {},
   "outputs": [
    {
     "name": "stdout",
     "output_type": "stream",
     "text": [
      "depth 101153.08454584387 0.0\n",
      "green_algae 13463.943934663263 0.0\n",
      "cyanobacteria 84639.65176453843 0.0\n",
      "brown/mixed_algae 30875.85767912665 0.0\n",
      "cryptophytes 58918.30319898713 0.0\n",
      "yellow_substances 33679.502203950404 0.0\n",
      "total_chlorophyll 0.0 1.0\n"
     ]
    }
   ],
   "source": [
    "for column in df.select_dtypes([\"float64\"]).columns:\n",
    "    stat, p = stats.kruskal(df[\"total_chlorophyll\"], df[column])\n",
    "    print(column, stat, p)"
   ]
  },
  {
   "cell_type": "code",
   "execution_count": null,
   "metadata": {},
   "outputs": [],
   "source": []
  }
 ],
 "metadata": {
  "kernelspec": {
   "display_name": ".venv",
   "language": "python",
   "name": "python3"
  },
  "language_info": {
   "codemirror_mode": {
    "name": "ipython",
    "version": 3
   },
   "file_extension": ".py",
   "mimetype": "text/x-python",
   "name": "python",
   "nbconvert_exporter": "python",
   "pygments_lexer": "ipython3",
   "version": "3.12.3"
  }
 },
 "nbformat": 4,
 "nbformat_minor": 2
}
